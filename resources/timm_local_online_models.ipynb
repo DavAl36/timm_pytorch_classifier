{
 "cells": [
  {
   "cell_type": "markdown",
   "metadata": {},
   "source": [
    "# Image Signal Processing\n",
    "\n",
    "https://github.com/topics/image-signal-processing"
   ]
  },
  {
   "cell_type": "code",
   "execution_count": null,
   "metadata": {
    "vscode": {
     "languageId": "plaintext"
    }
   },
   "outputs": [],
   "source": [
    "import timm\n",
    "import torch\n",
    "import os\n",
    "\n",
    "def download_or_load_model(model_name, local_path):\n",
    "    # Controlla se il modello è già presente in locale\n",
    "    if os.path.exists(local_path):\n",
    "        # Carica il modello da locale\n",
    "        model = timm.create_model(model_name, pretrained=False)\n",
    "        model.load_state_dict(torch.load(local_path))\n",
    "        model.eval()  # Imposta il modello in modalità di valutazione (non addestramento)\n",
    "        print(f\"Modello caricato da {local_path}\")\n",
    "    else:\n",
    "        # Scarica il modello pre-addestrato e salvalo in locale\n",
    "        model = timm.create_model(model_name, pretrained=True)\n",
    "        torch.save(model.state_dict(), local_path)\n",
    "        print(f\"Modello scaricato e salvato in {local_path}\")\n",
    "\n",
    "    return model\n",
    "\n",
    "# Specifica il nome del modello che vuoi utilizzare\n",
    "model_name = 'resnet18'\n",
    "# Specifica il percorso locale in cui salvare o caricare il modello\n",
    "local_model_path = 'modello_locale.pth'\n",
    "\n",
    "# Utilizza la funzione per scaricare o caricare il modello\n",
    "model = download_or_load_model(model_name, local_model_path)\n",
    "\n",
    "# Esempio di input casuale (cambia a seconda dell'architettura del modello)\n",
    "input_tensor = torch.randn(1, 3, 224, 224)\n",
    "\n",
    "# Effettua l'inferenza\n",
    "output = model(input_tensor)\n",
    "\n",
    "# Stampa l'output\n",
    "print(output)\n"
   ]
  }
 ],
 "metadata": {
  "language_info": {
   "name": "python"
  }
 },
 "nbformat": 4,
 "nbformat_minor": 2
}
